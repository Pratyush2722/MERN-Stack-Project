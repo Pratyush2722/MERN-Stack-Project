{
  "cells": [
    {
      "cell_type": "code",
      "source": [
        "print(\"hello\")"
      ],
      "metadata": {
        "colab": {
          "base_uri": "https://localhost:8080/"
        },
        "id": "a-gpEPNBjcBj",
        "outputId": "abec5d10-30f6-40e4-b148-bbf6ea74ea34"
      },
      "id": "a-gpEPNBjcBj",
      "execution_count": 1,
      "outputs": [
        {
          "output_type": "stream",
          "name": "stdout",
          "text": [
            "hello\n"
          ]
        }
      ]
    },
    {
      "cell_type": "code",
      "source": [
        "print(False)"
      ],
      "metadata": {
        "colab": {
          "base_uri": "https://localhost:8080/"
        },
        "id": "bwuKIcUsjtxf",
        "outputId": "a4666420-3cd1-477c-dc13-a4db615fc1f9"
      },
      "id": "bwuKIcUsjtxf",
      "execution_count": 2,
      "outputs": [
        {
          "output_type": "stream",
          "name": "stdout",
          "text": [
            "False\n"
          ]
        }
      ]
    },
    {
      "cell_type": "code",
      "source": [
        "print(\"India\",\"Pakistan\",\"Srilanka\")"
      ],
      "metadata": {
        "colab": {
          "base_uri": "https://localhost:8080/"
        },
        "id": "kEKW71hXjt0m",
        "outputId": "76370641-726a-4aa3-dbe1-24c260a5ae06"
      },
      "id": "kEKW71hXjt0m",
      "execution_count": 3,
      "outputs": [
        {
          "output_type": "stream",
          "name": "stdout",
          "text": [
            "India Pakistan Srilanka\n"
          ]
        }
      ]
    },
    {
      "cell_type": "code",
      "source": [
        "print(\"India\",\"Pakistan\",\"Srilanka\",sep = '/')"
      ],
      "metadata": {
        "colab": {
          "base_uri": "https://localhost:8080/"
        },
        "id": "htRyaC4ajt3z",
        "outputId": "da5f696c-55ae-4015-b3f8-a10a85dbfdc1"
      },
      "id": "htRyaC4ajt3z",
      "execution_count": 4,
      "outputs": [
        {
          "output_type": "stream",
          "name": "stdout",
          "text": [
            "India/Pakistan/Srilanka\n"
          ]
        }
      ]
    },
    {
      "cell_type": "code",
      "source": [
        "print(\"India\",\"Pakistan\",\"Srilanka\",sep = '-')"
      ],
      "metadata": {
        "colab": {
          "base_uri": "https://localhost:8080/"
        },
        "id": "3WlNfjNkjt6p",
        "outputId": "b24d5fdf-b838-49db-93b8-5e191362102f"
      },
      "id": "3WlNfjNkjt6p",
      "execution_count": 5,
      "outputs": [
        {
          "output_type": "stream",
          "name": "stdout",
          "text": [
            "India-Pakistan-Srilanka\n"
          ]
        }
      ]
    },
    {
      "cell_type": "code",
      "source": [
        "print(\"hello \",end = \" \")\n",
        "print(\"world\")"
      ],
      "metadata": {
        "colab": {
          "base_uri": "https://localhost:8080/"
        },
        "id": "vvKga9Izjt9e",
        "outputId": "f9033ff1-75fc-4982-afb5-2bcfbb0b32c9"
      },
      "id": "vvKga9Izjt9e",
      "execution_count": 6,
      "outputs": [
        {
          "output_type": "stream",
          "name": "stdout",
          "text": [
            "hello  world\n"
          ]
        }
      ]
    },
    {
      "cell_type": "code",
      "source": [
        "name = \"Nitish\";\n",
        "#no variable declaration\n",
        "#dynamic typing\n",
        "#dynamic binding\n",
        "print(name)"
      ],
      "metadata": {
        "colab": {
          "base_uri": "https://localhost:8080/"
        },
        "id": "vTtOv5b4juAi",
        "outputId": "22592266-8228-452d-bd6e-6a0b35e59e49"
      },
      "id": "vTtOv5b4juAi",
      "execution_count": 8,
      "outputs": [
        {
          "output_type": "stream",
          "name": "stdout",
          "text": [
            "Nitish\n"
          ]
        }
      ]
    },
    {
      "cell_type": "code",
      "source": [
        "import keyword\n",
        "print(keyword.kwlist)"
      ],
      "metadata": {
        "colab": {
          "base_uri": "https://localhost:8080/"
        },
        "id": "9o-kKef1kiMg",
        "outputId": "e39e93c7-4f9e-4ed0-e0a5-3fab345c9fdc"
      },
      "id": "9o-kKef1kiMg",
      "execution_count": 9,
      "outputs": [
        {
          "output_type": "stream",
          "name": "stdout",
          "text": [
            "['False', 'None', 'True', 'and', 'as', 'assert', 'async', 'await', 'break', 'class', 'continue', 'def', 'del', 'elif', 'else', 'except', 'finally', 'for', 'from', 'global', 'if', 'import', 'in', 'is', 'lambda', 'nonlocal', 'not', 'or', 'pass', 'raise', 'return', 'try', 'while', 'with', 'yield']\n"
          ]
        }
      ]
    },
    {
      "cell_type": "code",
      "source": [
        "input(\"Apna naam bata \")"
      ],
      "metadata": {
        "colab": {
          "base_uri": "https://localhost:8080/",
          "height": 53
        },
        "id": "J6FJlER9kiPj",
        "outputId": "f9ef962f-9322-4821-9e54-65b789296592"
      },
      "id": "J6FJlER9kiPj",
      "execution_count": 14,
      "outputs": [
        {
          "name": "stdout",
          "output_type": "stream",
          "text": [
            "Apna naam bata sdjhf\n"
          ]
        },
        {
          "output_type": "execute_result",
          "data": {
            "text/plain": [
              "'sdjhf'"
            ],
            "application/vnd.google.colaboratory.intrinsic+json": {
              "type": "string"
            }
          },
          "metadata": {},
          "execution_count": 14
        }
      ]
    },
    {
      "cell_type": "code",
      "source": [
        "first_num = input(\"Enter first number \")\n",
        "second_num = input(\"Enter second number \")\n",
        "result = first_num + second_num\n",
        "print(result)\n",
        "#input is always taken in string format"
      ],
      "metadata": {
        "colab": {
          "base_uri": "https://localhost:8080/"
        },
        "id": "CyvjjdcbkiSd",
        "outputId": "a26ee738-8fd4-476c-b5e1-250c4fb58da7"
      },
      "id": "CyvjjdcbkiSd",
      "execution_count": 15,
      "outputs": [
        {
          "output_type": "stream",
          "name": "stdout",
          "text": [
            "Enter first number 45469\n",
            "Enter second number 35465\n",
            "4546935465\n"
          ]
        }
      ]
    },
    {
      "cell_type": "code",
      "source": [
        "type(first_num)\n"
      ],
      "metadata": {
        "colab": {
          "base_uri": "https://localhost:8080/"
        },
        "id": "DRXzhAQ0kiVn",
        "outputId": "fa27d1f0-c690-4ff8-814f-f30d2889b693"
      },
      "id": "DRXzhAQ0kiVn",
      "execution_count": 16,
      "outputs": [
        {
          "output_type": "execute_result",
          "data": {
            "text/plain": [
              "str"
            ]
          },
          "metadata": {},
          "execution_count": 16
        }
      ]
    },
    {
      "cell_type": "code",
      "source": [
        "#implicit type conversion\n",
        "#explicit\n",
        "4+5.5 #----implicit"
      ],
      "metadata": {
        "colab": {
          "base_uri": "https://localhost:8080/"
        },
        "id": "6FRZfbcJkiYf",
        "outputId": "b67822c0-a783-46a6-d1e1-43fb6a79a609"
      },
      "id": "6FRZfbcJkiYf",
      "execution_count": 17,
      "outputs": [
        {
          "output_type": "execute_result",
          "data": {
            "text/plain": [
              "9.5"
            ]
          },
          "metadata": {},
          "execution_count": 17
        }
      ]
    },
    {
      "cell_type": "code",
      "source": [
        "first_num+second_num\n"
      ],
      "metadata": {
        "colab": {
          "base_uri": "https://localhost:8080/",
          "height": 35
        },
        "id": "2Le3ETmSkibz",
        "outputId": "15e1254a-c2a0-483a-fed9-8687c4ed9ac6"
      },
      "id": "2Le3ETmSkibz",
      "execution_count": 20,
      "outputs": [
        {
          "output_type": "execute_result",
          "data": {
            "text/plain": [
              "'4546935465'"
            ],
            "application/vnd.google.colaboratory.intrinsic+json": {
              "type": "string"
            }
          },
          "metadata": {},
          "execution_count": 20
        }
      ]
    },
    {
      "cell_type": "code",
      "source": [
        "int('45')\n",
        "int(first_num)"
      ],
      "metadata": {
        "colab": {
          "base_uri": "https://localhost:8080/"
        },
        "id": "tJTYKGwOkifW",
        "outputId": "f2e27977-e478-4123-c21f-d39230dac596"
      },
      "id": "tJTYKGwOkifW",
      "execution_count": 22,
      "outputs": [
        {
          "output_type": "execute_result",
          "data": {
            "text/plain": [
              "45469"
            ]
          },
          "metadata": {},
          "execution_count": 22
        }
      ]
    },
    {
      "cell_type": "code",
      "source": [
        "list(\"pratyush\")"
      ],
      "metadata": {
        "colab": {
          "base_uri": "https://localhost:8080/"
        },
        "id": "fjgCEOuFjuDr",
        "outputId": "be8f2eef-4d9a-400f-ed38-d8595322366a"
      },
      "id": "fjgCEOuFjuDr",
      "execution_count": 23,
      "outputs": [
        {
          "output_type": "execute_result",
          "data": {
            "text/plain": [
              "['p', 'r', 'a', 't', 'y', 'u', 's', 'h']"
            ]
          },
          "metadata": {},
          "execution_count": 23
        }
      ]
    },
    {
      "cell_type": "code",
      "source": [
        "first_num = int(input(\"Enter first number \"))\n",
        "second_num = int(input(\"Enter second number \"))\n",
        "result = first_num + second_num\n",
        "print(result)"
      ],
      "metadata": {
        "colab": {
          "base_uri": "https://localhost:8080/"
        },
        "id": "3VN_ZNh7juG4",
        "outputId": "885b6c9d-eda6-4eda-b681-3c7dfdf8a8fc"
      },
      "id": "3VN_ZNh7juG4",
      "execution_count": 25,
      "outputs": [
        {
          "output_type": "stream",
          "name": "stdout",
          "text": [
            "Enter first number 34983\n",
            "Enter second number 389483\n",
            "424466\n"
          ]
        }
      ]
    },
    {
      "cell_type": "code",
      "source": [
        "Unicode = u'\\U0001f600\\U0001F606\\U0001F923'\n",
        "print(Unicode)"
      ],
      "metadata": {
        "colab": {
          "base_uri": "https://localhost:8080/"
        },
        "id": "aM88Tcp0juJ_",
        "outputId": "cd28e0e3-469a-41e9-cce3-f6459de8791b"
      },
      "id": "aM88Tcp0juJ_",
      "execution_count": 27,
      "outputs": [
        {
          "output_type": "stream",
          "name": "stdout",
          "text": [
            "😀😆🤣\n"
          ]
        }
      ]
    },
    {
      "cell_type": "code",
      "source": [
        "a = True + 4\n",
        "print(a)"
      ],
      "metadata": {
        "colab": {
          "base_uri": "https://localhost:8080/"
        },
        "id": "3V4_REl8juMz",
        "outputId": "c0463fc6-3bbc-4eea-b1ec-ee1cccbdf353"
      },
      "id": "3V4_REl8juMz",
      "execution_count": 29,
      "outputs": [
        {
          "output_type": "stream",
          "name": "stdout",
          "text": [
            "5\n"
          ]
        }
      ]
    },
    {
      "cell_type": "code",
      "source": [
        "k = None\n",
        "print(k) #used to declare the variables which we will use later"
      ],
      "metadata": {
        "colab": {
          "base_uri": "https://localhost:8080/"
        },
        "id": "vJsAkmsHjuQE",
        "outputId": "daf35d41-0841-4561-b120-d91073f110e8"
      },
      "id": "vJsAkmsHjuQE",
      "execution_count": 32,
      "outputs": [
        {
          "output_type": "stream",
          "name": "stdout",
          "text": [
            "None\n"
          ]
        }
      ]
    },
    {
      "cell_type": "code",
      "source": [
        "x = 5\n",
        "y = 2\n",
        "print(x ** y)"
      ],
      "metadata": {
        "colab": {
          "base_uri": "https://localhost:8080/"
        },
        "id": "UCg6ZESmjuS9",
        "outputId": "0ed3725c-b853-4075-82e1-cb5d4821cd0e"
      },
      "id": "UCg6ZESmjuS9",
      "execution_count": 33,
      "outputs": [
        {
          "output_type": "stream",
          "name": "stdout",
          "text": [
            "25\n"
          ]
        }
      ]
    },
    {
      "cell_type": "code",
      "source": [
        "print(x // y) #integer division"
      ],
      "metadata": {
        "colab": {
          "base_uri": "https://localhost:8080/"
        },
        "id": "DuJ2BxPjjuWD",
        "outputId": "c37f5d28-dc70-440b-f749-0a4a8617f586"
      },
      "id": "DuJ2BxPjjuWD",
      "execution_count": 34,
      "outputs": [
        {
          "output_type": "stream",
          "name": "stdout",
          "text": [
            "2\n"
          ]
        }
      ]
    },
    {
      "cell_type": "code",
      "source": [
        "print(x & y)"
      ],
      "metadata": {
        "colab": {
          "base_uri": "https://localhost:8080/"
        },
        "id": "dVWR3TRtjuZo",
        "outputId": "ac5d82d1-f93b-431b-edf1-76a0f873ec2e"
      },
      "id": "dVWR3TRtjuZo",
      "execution_count": 35,
      "outputs": [
        {
          "output_type": "stream",
          "name": "stdout",
          "text": [
            "0\n"
          ]
        }
      ]
    },
    {
      "cell_type": "code",
      "source": [
        "a++\n",
        "++a #this is not allowed here"
      ],
      "metadata": {
        "id": "2a519y2MzKd9"
      },
      "id": "2a519y2MzKd9",
      "execution_count": null,
      "outputs": []
    },
    {
      "cell_type": "code",
      "source": [
        "a = 3\n",
        "b = 3\n",
        "print(a is b)"
      ],
      "metadata": {
        "colab": {
          "base_uri": "https://localhost:8080/"
        },
        "id": "rlVPQaSezKhB",
        "outputId": "375631b2-e6df-4b90-fab8-6403f322151f"
      },
      "id": "rlVPQaSezKhB",
      "execution_count": 36,
      "outputs": [
        {
          "output_type": "stream",
          "name": "stdout",
          "text": [
            "True\n"
          ]
        }
      ]
    },
    {
      "cell_type": "code",
      "source": [
        "a=[1,2,3]\n",
        "b = [1,2,3]\n",
        "print(a is b)"
      ],
      "metadata": {
        "colab": {
          "base_uri": "https://localhost:8080/"
        },
        "id": "WDN6JVOKzKj4",
        "outputId": "daf1a19e-f6fe-42df-e607-b7613bbd4298"
      },
      "id": "WDN6JVOKzKj4",
      "execution_count": 37,
      "outputs": [
        {
          "output_type": "stream",
          "name": "stdout",
          "text": [
            "False\n"
          ]
        }
      ]
    },
    {
      "cell_type": "code",
      "source": [
        "x = \"Delhi\"\n",
        "print('D' not in x)"
      ],
      "metadata": {
        "colab": {
          "base_uri": "https://localhost:8080/"
        },
        "id": "fCGBuEVzzKm4",
        "outputId": "0e45234f-e124-496c-b627-8ea60c4b93b2"
      },
      "id": "fCGBuEVzzKm4",
      "execution_count": 38,
      "outputs": [
        {
          "output_type": "stream",
          "name": "stdout",
          "text": [
            "False\n"
          ]
        }
      ]
    },
    {
      "cell_type": "code",
      "source": [],
      "metadata": {
        "id": "Lo37ixiCzKqA"
      },
      "id": "Lo37ixiCzKqA",
      "execution_count": null,
      "outputs": []
    },
    {
      "cell_type": "code",
      "source": [],
      "metadata": {
        "id": "fpQWZZN8zKsw"
      },
      "id": "fpQWZZN8zKsw",
      "execution_count": null,
      "outputs": []
    },
    {
      "cell_type": "code",
      "source": [],
      "metadata": {
        "id": "8fx498jdzKv5"
      },
      "id": "8fx498jdzKv5",
      "execution_count": null,
      "outputs": []
    },
    {
      "cell_type": "code",
      "source": [],
      "metadata": {
        "id": "sFotrt1GzKzb"
      },
      "id": "sFotrt1GzKzb",
      "execution_count": null,
      "outputs": []
    },
    {
      "cell_type": "code",
      "source": [],
      "metadata": {
        "id": "Gf_6wOsHzK2n"
      },
      "id": "Gf_6wOsHzK2n",
      "execution_count": null,
      "outputs": []
    },
    {
      "cell_type": "code",
      "source": [],
      "metadata": {
        "id": "8GSSwjOSzK5N"
      },
      "id": "8GSSwjOSzK5N",
      "execution_count": null,
      "outputs": []
    },
    {
      "cell_type": "code",
      "source": [],
      "metadata": {
        "id": "MvkV9LyyzK8P"
      },
      "id": "MvkV9LyyzK8P",
      "execution_count": null,
      "outputs": []
    },
    {
      "cell_type": "code",
      "source": [],
      "metadata": {
        "id": "huINrqyMzK_z"
      },
      "id": "huINrqyMzK_z",
      "execution_count": null,
      "outputs": []
    }
  ],
  "metadata": {
    "kernelspec": {
      "display_name": "Python 3",
      "name": "python3"
    },
    "language_info": {
      "name": "python"
    },
    "required_libs": [],
    "colab": {
      "provenance": []
    }
  },
  "nbformat": 4,
  "nbformat_minor": 5
}